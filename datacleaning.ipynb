{
 "cells": [
  {
   "cell_type": "code",
   "execution_count": 1,
   "metadata": {},
   "outputs": [],
   "source": [
    "import pandas as pd\n",
    "import numpy as np\n",
    "import networkx \n",
    "import openpyxl"
   ]
  },
  {
   "cell_type": "code",
   "execution_count": 4,
   "metadata": {},
   "outputs": [
    {
     "ename": "TypeError",
     "evalue": "string indices must be integers, not 'tuple'",
     "output_type": "error",
     "traceback": [
      "\u001b[1;31m---------------------------------------------------------------------------\u001b[0m",
      "\u001b[1;31mTypeError\u001b[0m                                 Traceback (most recent call last)",
      "Cell \u001b[1;32mIn[4], line 40\u001b[0m\n\u001b[0;32m     37\u001b[0m                 classes \u001b[38;5;241m=\u001b[39m np\u001b[38;5;241m.\u001b[39mdelete(classes,\u001b[38;5;241m0\u001b[39m)\n\u001b[0;32m     39\u001b[0m             \u001b[38;5;66;03m#Turn to string and set the value to that list \u001b[39;00m\n\u001b[1;32m---> 40\u001b[0m             given\u001b[38;5;241m.\u001b[39mat[student,full_name] \u001b[38;5;241m=\u001b[39m \u001b[43mnp\u001b[49m\u001b[38;5;241;43m.\u001b[39;49m\u001b[43marray2string\u001b[49m\u001b[43m(\u001b[49m\u001b[43mclasses\u001b[49m\u001b[43m,\u001b[49m\u001b[43mseparator\u001b[49m\u001b[38;5;241;43m=\u001b[39;49m\u001b[38;5;124;43m'\u001b[39;49m\u001b[38;5;124;43m,\u001b[39;49m\u001b[38;5;124;43m'\u001b[39;49m\u001b[43m)\u001b[49m\u001b[43m[\u001b[49m\u001b[38;5;241;43m1\u001b[39;49m\u001b[43m,\u001b[49m\u001b[38;5;241;43m-\u001b[39;49m\u001b[38;5;241;43m1\u001b[39;49m\u001b[43m]\u001b[49m\n\u001b[0;32m     41\u001b[0m             given\u001b[38;5;241m.\u001b[39mat[student,\u001b[38;5;124m'\u001b[39m\u001b[38;5;124mSemester Admitted\u001b[39m\u001b[38;5;124m'\u001b[39m] \u001b[38;5;241m=\u001b[39m admitted\n\u001b[0;32m     43\u001b[0m \u001b[38;5;66;03m#Looking only at students in the Computer Scinece department \u001b[39;00m\n",
      "\u001b[1;31mTypeError\u001b[0m: string indices must be integers, not 'tuple'"
     ]
    }
   ],
   "source": [
    "\n",
    "#Read in data\n",
    "given = pd.read_excel(\"./CS Course Enrollment Data.xlsx\")\n",
    "\n",
    "#Find the columns we dont need\n",
    "not_needed = [col for col in given.columns if col not in ['Semester Admitted','Major']]\n",
    "\n",
    "#Create semester string base \n",
    "semesters = [\"Fall \",\"Spring \", \"Summer \",\"Summer One \", \"Summer Two \"]\n",
    "\n",
    "#Loop through each year \n",
    "for year in range(2008,2024):\n",
    "    #For each semester per year \n",
    "    for semester in semesters:\n",
    "\n",
    "        #Add year label\n",
    "        full_name = semester + str(year)\n",
    "\n",
    "        #Create new column in df \n",
    "        given[full_name] = ''\n",
    "        \n",
    "        #Find any students who got credit for this semester \n",
    "        all_rows = given.index[given.isin([full_name]).any(axis=1)]\n",
    "        \n",
    "        #Loop through each student \n",
    "        for student in all_rows:\n",
    "\n",
    "            #Get the row information\n",
    "            temp = given.iloc[student]\n",
    "\n",
    "            #Get the actual classes they got credit for \n",
    "            classes = temp[temp ==full_name].index.values\n",
    "            classes = np.array([i.split('_')[0] if '_' in i else i for i in classes])\n",
    "            admitted = temp['Semester Admitted'].split()[-1]\n",
    "\n",
    "            #Take out if it found the year admitted in its results \n",
    "            if 'Semester Admitted' in classes:\n",
    "                classes = np.delete(classes,0)\n",
    "\n",
    "            #Turn to string and set the value to that list \n",
    "            given.at[student,full_name] = np.array2string(classes,separator=',')[1,-1]\n",
    "            given.at[student,'Semester Admitted'] = admitted\n",
    "\n",
    "#Looking only at students in the Computer Scinece department \n",
    "given = given[given['Department']=='Computer Science']\n",
    "\n",
    "#Take out those columns we dont need anymore \n",
    "given = given.drop(columns=not_needed)\n",
    "\n",
    "#Export to excel file\n",
    "given.to_excel(\"output.xlsx\")\n"
   ]
  }
 ],
 "metadata": {
  "kernelspec": {
   "display_name": "Python 3",
   "language": "python",
   "name": "python3"
  },
  "language_info": {
   "codemirror_mode": {
    "name": "ipython",
    "version": 3
   },
   "file_extension": ".py",
   "mimetype": "text/x-python",
   "name": "python",
   "nbconvert_exporter": "python",
   "pygments_lexer": "ipython3",
   "version": "3.11.8"
  }
 },
 "nbformat": 4,
 "nbformat_minor": 2
}
