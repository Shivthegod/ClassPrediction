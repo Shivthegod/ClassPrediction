{
 "cells": [
  {
   "cell_type": "code",
   "execution_count": 134,
   "metadata": {},
   "outputs": [],
   "source": [
    "import pandas as pd\n",
    "import numpy as np\n",
    "import networkx \n",
    "import openpyxl"
   ]
  },
  {
   "cell_type": "code",
   "execution_count": 135,
   "metadata": {},
   "outputs": [],
   "source": [
    "\n",
    "#Read in data\n",
    "given = pd.read_excel(\"./CS Course Enrollment Data.xlsx\")\n",
    "\n",
    "#Find the columns we dont need\n",
    "not_needed = [col for col in given.columns if col not in ['Semester Admitted','Major']]\n",
    "\n",
    "#Create semester string base \n",
    "semesters = [\"Fall \",\"Spring \", \"Summer One \", \"Summer Two \"]\n",
    "\n",
    "#Loop through each year \n",
    "for year in range(2008,2024):\n",
    "    #For each semester per year \n",
    "    for semester in semesters:\n",
    "\n",
    "        #Add year label\n",
    "        full_name = semester + str(year)\n",
    "\n",
    "        #Create new column in df \n",
    "        given[full_name] = ''\n",
    "        \n",
    "        #Find any students who got credit for this semester \n",
    "        all_rows = given.index[given.isin([full_name]).any(axis=1)]\n",
    "        \n",
    "        #Loop through each student \n",
    "        for student in all_rows:\n",
    "\n",
    "            #Get the row information\n",
    "            temp = given.iloc[student]\n",
    "\n",
    "            #Get the actual classes they got credit for \n",
    "            classes = temp[temp ==full_name].index.values\n",
    "\n",
    "            #Take out if it found the year admitted in its results \n",
    "            if 'Semester Admitted' in classes:\n",
    "                classes = np.delete(classes,0)\n",
    "\n",
    "            #Turn to string and set the value to that list \n",
    "            given.at[student,full_name] = np.array2string(classes,separator=',',)[1:-1]\n",
    "\n",
    "#Looking only at students in the Computer Scinece department \n",
    "given = given[given['Department']=='Computer Science']\n",
    "\n",
    "#Take out those columns we dont need anymore \n",
    "given = given.drop(columns=not_needed)\n",
    "\n",
    "#Export to excel file\n",
    "given.to_excel(\"output.xlsx\")\n"
   ]
  }
 ],
 "metadata": {
  "kernelspec": {
   "display_name": "Python 3",
   "language": "python",
   "name": "python3"
  },
  "language_info": {
   "codemirror_mode": {
    "name": "ipython",
    "version": 3
   },
   "file_extension": ".py",
   "mimetype": "text/x-python",
   "name": "python",
   "nbconvert_exporter": "python",
   "pygments_lexer": "ipython3",
   "version": "3.11.8"
  }
 },
 "nbformat": 4,
 "nbformat_minor": 2
}
