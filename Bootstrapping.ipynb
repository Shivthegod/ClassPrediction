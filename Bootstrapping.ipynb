{
 "cells": [
  {
   "cell_type": "code",
   "execution_count": null,
   "metadata": {},
   "outputs": [],
   "source": [
    "import datawrangling\n",
    "import numpy as np\n",
    "import scipy.stats as st\n",
    "import pandas as pd\n",
    "# i love python"
   ]
  },
  {
   "cell_type": "code",
   "execution_count": null,
   "metadata": {},
   "outputs": [],
   "source": [
    "df = pd.read_excel(\"output.xlsx\")\n",
    "data,dict = datawrangling.dataWrangling(df,\"Fall 2017\",\"Spring 2018\")\n",
    "# data has old/new classes for each term"
   ]
  },
  {
   "cell_type": "code",
   "execution_count": null,
   "metadata": {},
   "outputs": [],
   "source": [
    "def str_to_list(str):\n",
    "    if type(str) != type(\"i love dynamic typing\"):\n",
    "        return [\"\"]\n",
    "    ret = str.replace(\"[\", \"\").replace(\"\\'\", \"\").replace(\"]\", \"\").split(\", \")\n",
    "    if ret[-1] == \"\":\n",
    "        ret = ret[0:-1]\n",
    "    return ret\n",
    "\n",
    "df_newclasses = pd.DataFrame(columns=['old', 'new', 'added'])\n",
    "for i in range(data.shape[0]):\n",
    "    df_newclasses.loc[len(df_newclasses.index)] = [str_to_list(data.iloc[i][0]), str_to_list(data.iloc[i][1]), [x for x in str_to_list(data.iloc[i][1]) if x not in str_to_list(data.iloc[i][0])]]\n",
    "\n",
    "pd.DataFrame.to_csv(df_newclasses, \"ungabunga.csv\")"
   ]
  },
  {
   "cell_type": "code",
   "execution_count": null,
   "metadata": {},
   "outputs": [],
   "source": [
    "def get_class_cnt(ser):\n",
    "    class_cnt = {}\n",
    "    for key, class_list in ser.items():\n",
    "        for c in class_list:\n",
    "            if c not in class_cnt:\n",
    "                class_cnt[c] = 1\n",
    "            else:\n",
    "                class_cnt[c] += 1\n",
    "    return class_cnt\n",
    "\n",
    "get_class_cnt(df_newclasses['added'])"
   ]
  },
  {
   "cell_type": "code",
   "execution_count": null,
   "metadata": {},
   "outputs": [],
   "source": [
    "def get_bootstrap_sample(df):\n",
    "    n = df.shape[0]\n",
    "    boot_df = df.iloc[np.random.randint(n, size=n)]\n",
    "    return boot_df\n",
    "\n",
    "boot_results = []\n",
    "trials = 100\n",
    "for i in range(trials):\n",
    "    boot_counts = get_class_cnt(get_bootstrap_sample(df_newclasses[\"added\"]))\n",
    "    \n",
    "    boot_results.append(boot_counts)\n",
    "\n",
    "def get_class_cnt_lists(boot_results):\n",
    "    class_cnt_lists = {}\n",
    "    for dic in boot_results:\n",
    "        for key, value in dic.items():\n",
    "            if key not in class_cnt_lists:\n",
    "                class_cnt_lists[key] = [value]\n",
    "            else:\n",
    "                class_cnt_lists[key].append(value)\n",
    "\n",
    "    return class_cnt_lists"
   ]
  },
  {
   "cell_type": "code",
   "execution_count": 41,
   "metadata": {},
   "outputs": [
    {
     "name": "stdout",
     "output_type": "stream",
     "text": [
      "{'CSCI101': 28.71, 'CSCI358': 31.51, 'CSCI261': 65.61, 'CSCI306': 25.2, 'CSCI274': 22.09, 'CSCI400': 2.393258426966292, 'CSCI262': 46.46, 'CSCI341': 23.36, 'CSCI406': 5.84, 'CSCI442': 3.0927835051546393}\n",
      "{'CSCI101': 4.705943051079135, 'CSCI358': 5.552467919763247, 'CSCI261': 7.1678378887918495, 'CSCI306': 4.442971978304613, 'CSCI274': 4.322256355192274, 'CSCI400': 1.5111419710970273, 'CSCI262': 5.598964189919418, 'CSCI341': 4.640086206095745, 'CSCI406': 2.6027677575995907, 'CSCI442': 1.4075091270825577}\n"
     ]
    }
   ],
   "source": [
    "def get_all_means(class_cnt_lists):\n",
    "    mean_dict = {}\n",
    "    for key, value in class_cnt_lists.items():\n",
    "        mean_dict[key] = np.mean(value)\n",
    "    return mean_dict\n",
    "\n",
    "def get_all_stds(class_cnt_lists):\n",
    "    mean_dict = {}\n",
    "    for key, value in class_cnt_lists.items():\n",
    "        mean_dict[key] = np.std(value)\n",
    "    return mean_dict\n",
    "\n",
    "means = get_all_means(get_class_cnt_lists(boot_results))\n",
    "stds = get_all_stds(get_class_cnt_lists(boot_results))\n",
    "\n",
    "print(means)\n",
    "print(stds)"
   ]
  },
  {
   "cell_type": "code",
   "execution_count": 42,
   "metadata": {},
   "outputs": [
    {
     "data": {
      "text/plain": [
       "{'CSCI101': (19.486351619884896, 37.9336483801151),\n",
       " 'CSCI358': (20.627162877264038, 42.39283712273597),\n",
       " 'CSCI261': (51.56103773796798, 79.65896226203202),\n",
       " 'CSCI306': (16.491774922522957, 33.90822507747704),\n",
       " 'CSCI274': (13.618377543823144, 30.561622456176856),\n",
       " 'CSCI400': (-0.5685798363838814, 5.355096690316465),\n",
       " 'CSCI262': (35.48603018775794, 57.43396981224206),\n",
       " 'CSCI341': (14.26543103605234, 32.45456896394766),\n",
       " 'CSCI406': (0.7385751951048025, 10.941424804895197),\n",
       " 'CSCI442': (0.33406561607282637, 5.851501394236452)}"
      ]
     },
     "execution_count": 42,
     "metadata": {},
     "output_type": "execute_result"
    }
   ],
   "source": [
    "def get_all_CIs(means, stds):\n",
    "    CIs = {}\n",
    "    for key, value in means.items():\n",
    "        CIs[key] = (value - (1.96 * stds[key]), value + (1.96 * stds[key]))\n",
    "    return CIs\n",
    "\n",
    "get_all_CIs(means, stds)"
   ]
  }
 ],
 "metadata": {
  "kernelspec": {
   "display_name": "Python 3",
   "language": "python",
   "name": "python3"
  },
  "language_info": {
   "codemirror_mode": {
    "name": "ipython",
    "version": 3
   },
   "file_extension": ".py",
   "mimetype": "text/x-python",
   "name": "python",
   "nbconvert_exporter": "python",
   "pygments_lexer": "ipython3",
   "version": "3.11.6"
  }
 },
 "nbformat": 4,
 "nbformat_minor": 2
}
